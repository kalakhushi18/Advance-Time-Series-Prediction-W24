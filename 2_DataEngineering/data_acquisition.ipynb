{
 "cells": [
  {
   "cell_type": "code",
   "execution_count": 11,
   "metadata": {},
   "outputs": [],
   "source": [
    "import io\n",
    "import requests  # For sending HTTP requests \n",
    "import pandas as pd  # For handling data as a DataFrame\n",
    "from io import StringIO  # For handling CSV data in memory\n",
    "from datetime import datetime  # For handling date and time\n",
    "import yfinance as yf  # For downloading financial data from Yahoo Finance\n",
    "import numpy as np\n",
    "import holidays"
   ]
  },
  {
   "cell_type": "markdown",
   "metadata": {},
   "source": [
    "daily_treasury_rates"
   ]
  },
  {
   "cell_type": "code",
   "execution_count": 2,
   "metadata": {},
   "outputs": [
    {
     "name": "stdout",
     "output_type": "stream",
     "text": [
      "         date  daily_treasury_rate\n",
      "0  12/29/2017                 1.25\n",
      "1  12/28/2017                 1.16\n",
      "2  12/27/2017                 1.15\n",
      "3  12/26/2017                 1.22\n",
      "4  12/22/2017                 1.12\n"
     ]
    }
   ],
   "source": [
    "# Initialize an empty DataFrame to store the daily treasury rates data\n",
    "daily_treasury_rates = pd.DataFrame()\n",
    "\n",
    "# Define the base URL format and the range of years for data retrieval\n",
    "base_url = (\"https://home.treasury.gov/resource-center/data-chart-center/\"\n",
    "            \"interest-rates/daily-treasury-rates.csv/{year}/all?\"\n",
    "            \"type=daily_treasury_bill_rates&field_tdr_date_value={year}&_format=csv\")\n",
    "current_year = datetime.now().year\n",
    "years = range(2017, current_year + 1)\n",
    "\n",
    "# Loop through each year, download the CSV data, and append only the required columns\n",
    "for year in years:\n",
    "    url = base_url.format(year=year)\n",
    "    headers = {\"User-Agent\": \"Mozilla/5.0\"}\n",
    "    response = requests.get(url, headers=headers)\n",
    "    \n",
    "    if response.status_code == 200:\n",
    "        # Read the CSV data\n",
    "        yearly_data = pd.read_csv(io.StringIO(response.text))\n",
    "        \n",
    "        # Ensure the \"Date\" column exists\n",
    "        if \"Date\" in yearly_data.columns:\n",
    "            selected_data = yearly_data[[\"Date\", yearly_data.columns[1]]]\n",
    "            daily_treasury_rates = pd.concat([daily_treasury_rates, selected_data], ignore_index=True)\n",
    "# renaming the columns\n",
    "daily_treasury_rates.columns = [\"date\", \"daily_treasury_rate\"]\n",
    "\n",
    "# Display the first few rows of the DataFrame\n",
    "print(daily_treasury_rates.head())"
   ]
  },
  {
   "cell_type": "markdown",
   "metadata": {},
   "source": [
    "inflation_expection"
   ]
  },
  {
   "cell_type": "code",
   "execution_count": 3,
   "metadata": {},
   "outputs": [
    {
     "name": "stdout",
     "output_type": "stream",
     "text": [
      "         date inflation_expected_rate\n",
      "0  2017-11-10                    1.88\n",
      "1  2017-11-13                    1.88\n",
      "2  2017-11-14                    1.87\n",
      "3  2017-11-15                    1.85\n",
      "4  2017-11-16                    1.84\n"
     ]
    }
   ],
   "source": [
    "# Define the date range for the data\n",
    "start_date = \"2017-11-10\"  # Starting date for the data\n",
    "end_date = datetime.today().strftime(\"%Y-%m-%d\")  # Today's date as the ending date\n",
    "\n",
    "# Construct the URL for downloading data from FRED\n",
    "url = f\"https://fred.stlouisfed.org/graph/fredgraph.csv?id=T10YIE&cosd={start_date}&coed={end_date}&fq=Daily\"\n",
    "\n",
    "# Request the data from FRED\n",
    "response = requests.get(url)  # Send a GET request to the specified URL\n",
    "\n",
    "# Check if the request was successful (status code 200 indicates success)\n",
    "if response.status_code == 200:\n",
    "    # Load the content into a pandas DataFrame\n",
    "    inflation_expectation = pd.read_csv(StringIO(response.text))\n",
    "\n",
    "# renaming the columns\n",
    "inflation_expectation.columns = [\"date\", \"inflation_expected_rate\"]   \n",
    "\n",
    "print(inflation_expectation.head())"
   ]
  },
  {
   "cell_type": "markdown",
   "metadata": {},
   "source": [
    "s&p500"
   ]
  },
  {
   "cell_type": "code",
   "execution_count": 5,
   "metadata": {},
   "outputs": [
    {
     "name": "stderr",
     "output_type": "stream",
     "text": [
      "[*********************100%***********************]  1 of 1 completed"
     ]
    },
    {
     "name": "stdout",
     "output_type": "stream",
     "text": [
      "        date  sp500_closing\n",
      "0 2017-11-10    2582.300049\n",
      "1 2017-11-13    2584.840088\n",
      "2 2017-11-14    2578.870117\n",
      "3 2017-11-15    2564.620117\n",
      "4 2017-11-16    2585.639893\n"
     ]
    },
    {
     "name": "stderr",
     "output_type": "stream",
     "text": [
      "\n"
     ]
    }
   ],
   "source": [
    "# Define the ticker symbols\n",
    "ticker_symbol = ['^GSPC']  # Yahoo Finance tickers \n",
    "\n",
    "# Set the start and end dates for the data retrieval\n",
    "start_date = '2017-11-10'  # Starting date for the historical data\n",
    "end_date = pd.Timestamp.today().strftime('%Y-%m-%d')  # Today's date as the ending date\n",
    "\n",
    "# Fetch the historical data for the S&P 500\n",
    "economic_indicators = yf.download(ticker_symbol, start=start_date, end=end_date)  # Download the data\n",
    "\n",
    "# Extract only the date and closing price from the data\n",
    "economic_indicators = economic_indicators['Close'].reset_index()  # Focus on the 'Close' column\n",
    "\n",
    "# renaming the columns\n",
    "economic_indicators.columns = [\"date\", \"sp500_closing\"]\n",
    "\n",
    "print(economic_indicators.head())  # Display the first few rows of the data"
   ]
  },
  {
   "cell_type": "code",
   "execution_count": 6,
   "metadata": {},
   "outputs": [
    {
     "name": "stdout",
     "output_type": "stream",
     "text": [
      "        date       ADA          BCH      BNB          BTC      DOGE  \\\n",
      "0 2017-11-10  0.027119  1007.419983  1.79684  6618.140137  0.001163   \n",
      "1 2017-11-11  0.027437  1340.449951  1.67047  6357.600098  0.001201   \n",
      "2 2017-11-12  0.023977  1388.859985  1.51969  5950.069824  0.001038   \n",
      "3 2017-11-13  0.025808  1353.989990  1.68662  6559.490234  0.001211   \n",
      "4 2017-11-14  0.026230  1273.530029  1.59258  6635.750000  0.001184   \n",
      "\n",
      "          ETH      LINK        LTC     USDT       XLM         XMR       XRP  \n",
      "0  299.252991  0.187602  59.260101  1.00601  0.033073  105.585999  0.206483  \n",
      "1  314.681000  0.179770  62.303299  1.00899  0.033053  119.615997  0.210430  \n",
      "2  307.907990  0.170898  59.005402  1.01247  0.028182  123.856003  0.197339  \n",
      "3  316.716003  0.183071  61.396500  1.00935  0.030656  123.402000  0.203442  \n",
      "4  337.631012  0.188114  62.679600  1.00683  0.036374  122.352997  0.209825  \n"
     ]
    }
   ],
   "source": [
    "# Define the cryptocurrency tickers\n",
    "crypto_tickers = [\n",
    "    'BTC-USD', 'ETH-USD', 'BNB-USD', 'USDT-USD', 'ADA-USD',\n",
    "    'XRP-USD', 'DOGE-USD', 'LTC-USD', 'LINK-USD', 'XLM-USD',\n",
    "    'BCH-USD', 'XMR-USD'\n",
    "]\n",
    "\n",
    "# Define the date range\n",
    "start_date = '2017-11-10'\n",
    "end_date = pd.Timestamp.today().strftime('%Y-%m-%d')  # Get today's date\n",
    "\n",
    "# Fetch the data\n",
    "data = yf.download(crypto_tickers, start=start_date, end=end_date, progress=False)\n",
    "\n",
    "# Select only the closing prices\n",
    "coins = data['Close'].reset_index()\n",
    "\n",
    "# renaming the columns\n",
    "coins.columns = [\"date\", \"ADA\", \"BCH\", \"BNB\", \"BTC\", \"DOGE\", \"ETH\", \"LINK\", \"LTC\", \"USDT\", \"XLM\", \"XMR\", \"XRP\"]\n",
    "\n",
    "# Display the first few rows of the data\n",
    "print(coins.head())"
   ]
  },
  {
   "cell_type": "code",
   "execution_count": 13,
   "metadata": {},
   "outputs": [
    {
     "name": "stdout",
     "output_type": "stream",
     "text": [
      "        date  daily_treasury_rate inflation_expected_rate  sp500_closing  \\\n",
      "0 2017-11-10                 1.03                    1.88    2582.300049   \n",
      "1 2017-11-11                  NaN                     NaN            NaN   \n",
      "2 2017-11-12                  NaN                     NaN            NaN   \n",
      "3 2017-11-13                 1.04                    1.88    2584.840088   \n",
      "4 2017-11-14                 1.04                    1.87    2578.870117   \n",
      "5 2017-11-15                 1.06                    1.85    2564.620117   \n",
      "6 2017-11-16                 1.06                    1.84    2585.639893   \n",
      "7 2017-11-17                 1.05                    1.86    2578.850098   \n",
      "8 2017-11-18                  NaN                     NaN            NaN   \n",
      "9 2017-11-19                  NaN                     NaN            NaN   \n",
      "\n",
      "        ADA          BCH      BNB          BTC      DOGE         ETH  \\\n",
      "0  0.027119  1007.419983  1.79684  6618.140137  0.001163  299.252991   \n",
      "1  0.027437  1340.449951  1.67047  6357.600098  0.001201  314.681000   \n",
      "2  0.023977  1388.859985  1.51969  5950.069824  0.001038  307.907990   \n",
      "3  0.025808  1353.989990  1.68662  6559.490234  0.001211  316.716003   \n",
      "4  0.026230  1273.530029  1.59258  6635.750000  0.001184  337.631012   \n",
      "5  0.026445  1212.400024  1.53045  7315.540039  0.001339  333.356995   \n",
      "6  0.027580   900.776001  1.57792  7871.689941  0.001390  330.924011   \n",
      "7  0.025773  1185.479980  1.51036  7708.990234  0.001313  332.394012   \n",
      "8  0.026369  1254.530029  1.67433  7790.149902  0.001373  347.612000   \n",
      "9  0.028084  1172.050049  1.61377  8036.490234  0.001376  354.385986   \n",
      "\n",
      "       LINK        LTC     USDT       XLM         XMR       XRP  is_holiday  \n",
      "0  0.187602  59.260101  1.00601  0.033073  105.585999  0.206483           1  \n",
      "1  0.179770  62.303299  1.00899  0.033053  119.615997  0.210430           1  \n",
      "2  0.170898  59.005402  1.01247  0.028182  123.856003  0.197339           1  \n",
      "3  0.183071  61.396500  1.00935  0.030656  123.402000  0.203442           0  \n",
      "4  0.188114  62.679600  1.00683  0.036374  122.352997  0.209825           0  \n",
      "5  0.186138  63.823601  1.00318  0.037053  121.374001  0.212956           0  \n",
      "6  0.169761  71.060204  1.00212  0.037234  120.305000  0.227107           0  \n",
      "7  0.159649  67.569000  1.00139  0.035572  126.699997  0.226581           0  \n",
      "8  0.170872  69.643700  1.00231  0.036583  130.798996  0.228627           1  \n",
      "9  0.162354  71.589302  1.00244  0.036566  129.479004  0.231016           1  \n"
     ]
    }
   ],
   "source": [
    "# Generate the date range\n",
    "start_date = '2017-11-10'\n",
    "end_date = (pd.Timestamp.today() - pd.Timedelta(days=1)).strftime('%Y-%m-%d')\n",
    "dates = pd.date_range(start=start_date, end=end_date)\n",
    "\n",
    "# Create a DataFrame with the date column\n",
    "date_df = pd.DataFrame({'date': dates})\n",
    "\n",
    "# Assuming the dataframes `daily_treasury_rates`, `inflation_expectation`, `economic_indicators`, `coins` are already loaded\n",
    "# Ensure all dataframes have their \"DATE\" column as a datetime type\n",
    "dataframes = {\n",
    "    \"daily_treasury_rates\": daily_treasury_rates,\n",
    "    \"inflation_expectation\": inflation_expectation,\n",
    "    \"economic_indicators\": economic_indicators,\n",
    "    \"coins\": coins\n",
    "}\n",
    "\n",
    "# Standardize column names for merging\n",
    "for key, df in dataframes.items():\n",
    "    df['date'] = pd.to_datetime(df['date'])\n",
    "\n",
    "\n",
    "# Set up holiday dates\n",
    "us_holidays = holidays.US()  # U.S. holiday list\n",
    "\n",
    "# Add a column to mark holidays (both public holidays and weekends)\n",
    "df['is_holiday'] = df['date'].apply(\n",
    "    lambda x: 1 if x in us_holidays or x.weekday() >= 5 else 0  # Mark as holiday if it's a public holiday or weekend\n",
    ")\n",
    "\n",
    "# Merge all dataframes with the date_df using left join\n",
    "all_data = date_df\n",
    "for key, df in dataframes.items():\n",
    "    all_data = pd.merge(all_data, df, on='date', how='left')\n",
    "\n",
    "# Save the merged dataset to a CSV file\n",
    "output_file = \"all_data.csv\"\n",
    "all_data.to_csv(output_file, index=False)\n",
    "print(all_data.head(10))"
   ]
  }
 ],
 "metadata": {
  "kernelspec": {
   "display_name": "time_series_work",
   "language": "python",
   "name": "python3"
  },
  "language_info": {
   "codemirror_mode": {
    "name": "ipython",
    "version": 3
   },
   "file_extension": ".py",
   "mimetype": "text/x-python",
   "name": "python",
   "nbconvert_exporter": "python",
   "pygments_lexer": "ipython3",
   "version": "3.12.7"
  }
 },
 "nbformat": 4,
 "nbformat_minor": 2
}
