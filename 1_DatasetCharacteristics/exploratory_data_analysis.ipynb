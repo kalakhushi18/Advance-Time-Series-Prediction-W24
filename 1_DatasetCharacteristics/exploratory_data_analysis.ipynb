{
 "cells": [
  {
   "cell_type": "markdown",
   "metadata": {},
   "source": [
    "# Exploratory Data Analysis (EDA)\n",
    "\n",
    "## Table of Contents\n",
    "1. [Dataset Overview](#dataset-overview)\n",
    "2. [Handling Missing Values](#handling-missing-values)\n",
    "3. [Feature Distributions](#feature-distributions)\n",
    "4. [Possible Biases](#possible-biases)\n",
    "5. [Correlations](#correlations)\n"
   ]
  },
  {
   "cell_type": "markdown",
   "metadata": {},
   "source": [
    "## Initial Setup"
   ]
  },
  {
   "cell_type": "code",
   "execution_count": 28,
   "metadata": {},
   "outputs": [],
   "source": [
    "# libraries for dataset operations\n",
    "import pandas as pd\n",
    "import numpy as np\n",
    "\n",
    "# libraries for data visualization\n",
    "import matplotlib.pyplot as plt\n",
    "%matplotlib inline\n",
    "\n",
    "import seaborn as sns"
   ]
  },
  {
   "cell_type": "code",
   "execution_count": 29,
   "metadata": {},
   "outputs": [],
   "source": [
    "# Stats models\n",
    "from statsmodels.tsa.stattools import adfuller\n",
    "from statsmodels.tsa.seasonal import seasonal_decompose\n",
    "from statsmodels.graphics.tsaplots import plot_acf, plot_pacf\n",
    "from statsmodels.tsa.stattools import kpss\n",
    "\n",
    "# Date tools\n",
    "from datetime import datetime, timedelta, date\n",
    "import matplotlib.dates as mdates"
   ]
  },
  {
   "cell_type": "code",
   "execution_count": 30,
   "metadata": {},
   "outputs": [],
   "source": [
    "# ignoring warnings\n",
    "import warnings\n",
    "warnings.filterwarnings('ignore')"
   ]
  },
  {
   "cell_type": "code",
   "execution_count": 31,
   "metadata": {},
   "outputs": [
    {
     "data": {
      "text/html": [
       "<style>.dataframe td { white-space: nowrap; }</style>"
      ],
      "text/plain": [
       "<IPython.core.display.HTML object>"
      ]
     },
     "metadata": {},
     "output_type": "display_data"
    }
   ],
   "source": [
    "# setting default number of rows and columns to be displayed\n",
    "pd.set_option('display.max_rows', None)\n",
    "pd.set_option('display.max_columns', None)\n",
    "pd.set_option('display.max_colwidth', None)  # No limit on column width\n",
    "pd.set_option('display.width', 200)  # Set a high enough width to prevent wrapping\n",
    "pd.set_option('display.colheader_justify', 'center')  # Center column headers for readability\n",
    "\n",
    "# adjusting CSS for the Jupyter Notebook, to avoid text-wrapping\n",
    "from IPython.display import display, HTML\n",
    "display(HTML(\"<style>.dataframe td { white-space: nowrap; }</style>\"))"
   ]
  },
  {
   "cell_type": "code",
   "execution_count": 32,
   "metadata": {},
   "outputs": [],
   "source": [
    "# number formatting for better readability\n",
    "\n",
    "nf_0 = lambda x: f'{x:,.0f}' if isinstance(x, (int, float)) else x # rounding-off to 0 decimals with thousand separator (for integers)\n",
    "nf_2 = lambda x: f'{x:,.2f}' if isinstance(x, (int, float)) else x # rounding-off to 2 decimals with thousand separator (for floats)\n",
    "nf_2np = lambda x: f'{x:.2%}' if isinstance(x, (int, float)) else x # rounding-off to 2 decimals with percent sign, assuming the number is calculated as percentage and not displayed as percentage\n",
    "nf_2pp = lambda x: f'{x/100:.2%}' if isinstance(x, (int, float)) else x # rounding-off to 2 decimals with percent sign, assuming the number is displayed as percentage but without percentage sign"
   ]
  },
  {
   "cell_type": "markdown",
   "metadata": {},
   "source": [
    "## Dataset Overview\n",
    "\n",
    "[Provide a high-level overview of the dataset. This should include the source of the dataset, the number of samples, the number of features, and example showing the structure of the dataset.]\n"
   ]
  },
  {
   "cell_type": "code",
   "execution_count": 33,
   "metadata": {},
   "outputs": [
    {
     "name": "stdout",
     "output_type": "stream",
     "text": [
      "Number of observations: 3656\n",
      "Number of features: 8\n",
      "Example data:\n",
      "      date     bitcoin_closing_prices  sp500_closing_data inflation_rate  daily_treasury_rates  bitcoin_daily_google_trends  is_holiday  twitter_sentiments_score\n",
      "0  2014-11-01        325.748993                    NaN          NaN                NaN                      40                    1                NaN           \n",
      "1  2014-11-02        325.891998                    NaN          NaN                NaN                      44                    1                NaN           \n",
      "2  2014-11-03        327.553986            2017.810059         1.93               0.03                      46                    0                NaN           \n",
      "3  2014-11-04        330.492004            2012.099976         1.92               0.04                      43                    0                NaN           \n",
      "4  2014-11-05        339.485992            2023.569946         1.93               0.04                      45                    0                NaN           \n",
      "5  2014-11-06        349.290009            2031.209961         1.94               0.04                      51                    0                NaN           \n",
      "6  2014-11-07        342.415009            2031.920044         1.94               0.04                      50                    0                NaN           \n",
      "7  2014-11-08        345.488007                    NaN          NaN                NaN                      46                    1                NaN           \n",
      "8  2014-11-09        363.264008                    NaN          NaN                NaN                      49                    1                NaN           \n",
      "9  2014-11-10        366.924011            2038.260010         1.94               0.04                      50                    0                NaN           \n"
     ]
    }
   ],
   "source": [
    "# loading the dataset\n",
    "df = pd.read_csv('https://raw.githubusercontent.com/kalakhushi18/Advance-Time-Series-Prediction-W24/refs/heads/main/dataset.csv')\n",
    "# Number of samples\n",
    "num_samples = df.shape[0]\n",
    "\n",
    "# Number of features\n",
    "num_features = df.shape[1]\n",
    "\n",
    "# Display these dataset characteristics\n",
    "print(f\"Number of observations: {num_samples}\")\n",
    "print(f\"Number of features: {num_features}\")\n",
    "\n",
    "# Display the first few rows of the dataframe to show the structure\n",
    "print(\"Example data:\")\n",
    "print(df.head(10))\n"
   ]
  },
  {
   "cell_type": "code",
   "execution_count": 34,
   "metadata": {},
   "outputs": [
    {
     "name": "stdout",
     "output_type": "stream",
     "text": [
      "       bitcoin_closing_prices  sp500_closing_data  daily_treasury_rates  bitcoin_daily_google_trends  is_holiday   twitter_sentiments_score\n",
      "count        3655.000000           2517.000000          2502.000000              3656.000000          3656.000000             0.0          \n",
      "mean        18632.744444           3293.187358             1.628030                49.153446             0.314551             NaN          \n",
      "std         20226.941042           1043.490524             1.847423                18.142972             0.464400             NaN          \n",
      "min           178.102997           1829.079956            -0.040000                 9.000000             0.000000             NaN          \n",
      "25%          1471.454956           2387.449951             0.090000                36.000000             0.000000             NaN          \n",
      "50%          9330.549805           2964.330078             0.940000                47.000000             0.000000             NaN          \n",
      "75%         30055.917969           4164.660156             2.360000                61.000000             1.000000             NaN          \n",
      "max         73083.500000           5864.669922             5.780000               100.000000             1.000000             NaN          \n"
     ]
    }
   ],
   "source": [
    "print(df.describe())"
   ]
  },
  {
   "cell_type": "code",
   "execution_count": 35,
   "metadata": {},
   "outputs": [
    {
     "name": "stdout",
     "output_type": "stream",
     "text": [
      "<class 'pandas.core.frame.DataFrame'>\n",
      "RangeIndex: 3656 entries, 0 to 3655\n",
      "Data columns (total 8 columns):\n",
      " #   Column                       Non-Null Count  Dtype  \n",
      "---  ------                       --------------  -----  \n",
      " 0   date                         3656 non-null   object \n",
      " 1   bitcoin_closing_prices       3655 non-null   float64\n",
      " 2   sp500_closing_data           2517 non-null   float64\n",
      " 3   inflation_rate               2610 non-null   object \n",
      " 4   daily_treasury_rates         2502 non-null   float64\n",
      " 5   bitcoin_daily_google_trends  3656 non-null   int64  \n",
      " 6   is_holiday                   3656 non-null   int64  \n",
      " 7   twitter_sentiments_score     0 non-null      float64\n",
      "dtypes: float64(4), int64(2), object(2)\n",
      "memory usage: 228.6+ KB\n"
     ]
    }
   ],
   "source": [
    "df.info()"
   ]
  },
  {
   "cell_type": "code",
   "execution_count": 36,
   "metadata": {},
   "outputs": [],
   "source": [
    "# changing 'date' column to datetime format\n",
    "df['date'] = pd.to_datetime(df['date'])"
   ]
  },
  {
   "cell_type": "code",
   "execution_count": 37,
   "metadata": {},
   "outputs": [],
   "source": [
    "# replacing '.' with np.nan in 'inflation_rate' column\n",
    "df['inflation_rate'] = df['inflation_rate'].replace('.', np.nan)"
   ]
  },
  {
   "cell_type": "code",
   "execution_count": 38,
   "metadata": {},
   "outputs": [],
   "source": [
    "# changing the type of 'inflation_rate' column to float\n",
    "df['inflation_rate'] = df['inflation_rate'].astype(float)"
   ]
  },
  {
   "cell_type": "markdown",
   "metadata": {},
   "source": [
    "## Handling Missing Values\n",
    "\n",
    "[Identify any missing values in the dataset, and describe your approach to handle them if there are any. If there are no missing values simply indicate that there are none.]\n"
   ]
  },
  {
   "cell_type": "code",
   "execution_count": 39,
   "metadata": {},
   "outputs": [
    {
     "name": "stdout",
     "output_type": "stream",
     "text": [
      "Missing values:\n",
      "                             Count Percentage\n",
      "date                            0      0.00% \n",
      "bitcoin_closing_prices          1      0.03% \n",
      "sp500_closing_data           1139     31.15% \n",
      "inflation_rate               1154     31.56% \n",
      "daily_treasury_rates         1154     31.56% \n",
      "bitcoin_daily_google_trends     0      0.00% \n",
      "is_holiday                      0      0.00% \n",
      "twitter_sentiments_score     3656    100.00% \n"
     ]
    }
   ],
   "source": [
    "# Check for missing values\n",
    "missing_values_count = df.isnull().sum()\n",
    "missing_values_percent = (df.isnull().sum() / len(df)) * 100\n",
    "missing_values_percent = missing_values_percent.map(nf_2pp)\n",
    "missing_values= pd.concat([missing_values_count, missing_values_percent], axis=1)\n",
    "missing_values.columns = ['Count', 'Percentage']\n",
    "\n",
    "print(\"Missing values:\")\n",
    "print(missing_values)"
   ]
  },
  {
   "cell_type": "code",
   "execution_count": 40,
   "metadata": {},
   "outputs": [
    {
     "data": {
      "text/plain": [
       "<Axes: >"
      ]
     },
     "execution_count": 40,
     "metadata": {},
     "output_type": "execute_result"
    },
    {
     "data": {
      "image/png": "[encoded data removed]",
      "text/plain": [
       "<Figure size 640x480 with 2 Axes>"
      ]
     },
     "metadata": {},
     "output_type": "display_data"
    }
   ],
   "source": [
    "# heatmap of missing values\n",
    "sns.heatmap(df.isnull(), cmap='coolwarm')"
   ]
  },
  {
   "cell_type": "code",
   "execution_count": 41,
   "metadata": {},
   "outputs": [],
   "source": [
    "# ffilling missing values in 'sp500_closing_data', 'inflation_rate' and 'daily_treasury_rate' columns\n",
    "df['sp500_closing_data'] = df['sp500_closing_data'].fillna(method='ffill')\n",
    "df['inflation_rate'] = df['inflation_rate'].fillna(method='ffill')\n",
    "df['daily_treasury_rates'] = df['daily_treasury_rates'].fillna(method='ffill')"
   ]
  },
  {
   "cell_type": "code",
   "execution_count": 42,
   "metadata": {},
   "outputs": [],
   "source": [
    "# bfilling missing values in 'sp500_closing_data', 'inflation_rate' and 'daily_treasury_rate' columns.\n",
    "# this bfill is for date 01-Nov-2014 and 02-Nov-2014 only as days on these dates are Saturday and Sunday respectively and we have no data to ffill\n",
    "df['sp500_closing_data'] = df['sp500_closing_data'].fillna(method='bfill')\n",
    "df['inflation_rate'] = df['inflation_rate'].fillna(method='bfill')\n",
    "df['daily_treasury_rates'] = df['daily_treasury_rates'].fillna(method='bfill')"
   ]
  },
  {
   "cell_type": "code",
   "execution_count": 43,
   "metadata": {},
   "outputs": [
    {
     "name": "stdout",
     "output_type": "stream",
     "text": [
      "<class 'pandas.core.frame.DataFrame'>\n",
      "RangeIndex: 3656 entries, 0 to 3655\n",
      "Data columns (total 8 columns):\n",
      " #   Column                       Non-Null Count  Dtype         \n",
      "---  ------                       --------------  -----         \n",
      " 0   date                         3656 non-null   datetime64[ns]\n",
      " 1   bitcoin_closing_prices       3655 non-null   float64       \n",
      " 2   sp500_closing_data           3656 non-null   float64       \n",
      " 3   inflation_rate               3656 non-null   float64       \n",
      " 4   daily_treasury_rates         3656 non-null   float64       \n",
      " 5   bitcoin_daily_google_trends  3656 non-null   int64         \n",
      " 6   is_holiday                   3656 non-null   int64         \n",
      " 7   twitter_sentiments_score     0 non-null      float64       \n",
      "dtypes: datetime64[ns](1), float64(5), int64(2)\n",
      "memory usage: 228.6 KB\n"
     ]
    }
   ],
   "source": [
    "df.info()"
   ]
  },
  {
   "cell_type": "code",
   "execution_count": 44,
   "metadata": {},
   "outputs": [
    {
     "name": "stdout",
     "output_type": "stream",
     "text": [
      "Missing values:\n",
      "                             Count Percentage\n",
      "date                            0      0.00% \n",
      "bitcoin_closing_prices          1      0.03% \n",
      "sp500_closing_data              0      0.00% \n",
      "inflation_rate                  0      0.00% \n",
      "daily_treasury_rates            0      0.00% \n",
      "bitcoin_daily_google_trends     0      0.00% \n",
      "is_holiday                      0      0.00% \n",
      "twitter_sentiments_score     3656    100.00% \n"
     ]
    }
   ],
   "source": [
    "# Check for missing values\n",
    "missing_values_count = df.isnull().sum()\n",
    "missing_values_percent = (df.isnull().sum() / len(df)) * 100\n",
    "missing_values_percent = missing_values_percent.map(nf_2pp)\n",
    "missing_values= pd.concat([missing_values_count, missing_values_percent], axis=1)\n",
    "missing_values.columns = ['Count', 'Percentage']\n",
    "\n",
    "print(\"Missing values:\")\n",
    "print(missing_values)"
   ]
  },
  {
   "cell_type": "code",
   "execution_count": 45,
   "metadata": {},
   "outputs": [
    {
     "data": {
      "text/html": [
       "<div>\n",
       "<style scoped>\n",
       "    .dataframe tbody tr th:only-of-type {\n",
       "        vertical-align: middle;\n",
       "    }\n",
       "\n",
       "    .dataframe tbody tr th {\n",
       "        vertical-align: top;\n",
       "    }\n",
       "\n",
       "    .dataframe thead th {\n",
       "        text-align: right;\n",
       "    }\n",
       "</style>\n",
       "<table border=\"1\" class=\"dataframe\">\n",
       "  <thead>\n",
       "    <tr style=\"text-align: center;\">\n",
       "      <th></th>\n",
       "      <th>date</th>\n",
       "      <th>bitcoin_closing_prices</th>\n",
       "      <th>sp500_closing_data</th>\n",
       "      <th>inflation_rate</th>\n",
       "      <th>daily_treasury_rates</th>\n",
       "      <th>bitcoin_daily_google_trends</th>\n",
       "      <th>is_holiday</th>\n",
       "      <th>twitter_sentiments_score</th>\n",
       "    </tr>\n",
       "  </thead>\n",
       "  <tbody>\n",
       "    <tr>\n",
       "      <th>3655</th>\n",
       "      <td>2024-11-03</td>\n",
       "      <td>NaN</td>\n",
       "      <td>5728.799805</td>\n",
       "      <td>2.33</td>\n",
       "      <td>4.57</td>\n",
       "      <td>52</td>\n",
       "      <td>1</td>\n",
       "      <td>NaN</td>\n",
       "    </tr>\n",
       "  </tbody>\n",
       "</table>\n",
       "</div>"
      ],
      "text/plain": [
       "        date     bitcoin_closing_prices  sp500_closing_data  inflation_rate  daily_treasury_rates  bitcoin_daily_google_trends  is_holiday  twitter_sentiments_score\n",
       "3655 2024-11-03           NaN                5728.799805          2.33               4.57                      52                    1                NaN           "
      ]
     },
     "execution_count": 45,
     "metadata": {},
     "output_type": "execute_result"
    }
   ],
   "source": [
    "# checking dates where null values are present\n",
    "df[df['bitcoin_closing_prices'].isnull()]"
   ]
  },
  {
   "cell_type": "code",
   "execution_count": 46,
   "metadata": {},
   "outputs": [],
   "source": [
    "# dropping rows where bitcoin_closing_prices is null\n",
    "df = df.dropna(subset=['bitcoin_closing_prices'])"
   ]
  },
  {
   "cell_type": "code",
   "execution_count": 47,
   "metadata": {},
   "outputs": [
    {
     "name": "stdout",
     "output_type": "stream",
     "text": [
      "Missing values:\n",
      "                             Count Percentage\n",
      "date                            0      0.00% \n",
      "bitcoin_closing_prices          0      0.00% \n",
      "sp500_closing_data              0      0.00% \n",
      "inflation_rate                  0      0.00% \n",
      "daily_treasury_rates            0      0.00% \n",
      "bitcoin_daily_google_trends     0      0.00% \n",
      "is_holiday                      0      0.00% \n",
      "twitter_sentiments_score     3655    100.00% \n"
     ]
    }
   ],
   "source": [
    "# Check for missing values\n",
    "missing_values_count = df.isnull().sum()\n",
    "missing_values_percent = (df.isnull().sum() / len(df)) * 100\n",
    "missing_values_percent = missing_values_percent.map(nf_2pp)\n",
    "missing_values= pd.concat([missing_values_count, missing_values_percent], axis=1)\n",
    "missing_values.columns = ['Count', 'Percentage']\n",
    "\n",
    "print(\"Missing values:\")\n",
    "print(missing_values)"
   ]
  },
  {
   "cell_type": "markdown",
   "metadata": {},
   "source": [
    "## Feature Distributions\n",
    "\n",
    "[Plot the distribution of various features and target variables. Comment on the skewness, outliers, or any other observations.]\n"
   ]
  },
  {
   "cell_type": "code",
   "execution_count": null,
   "metadata": {},
   "outputs": [],
   "source": [
    "# Define the variables to be plotted\n",
    "variables = ['bitcoin_closing_prices', 'sp500_closing_data',\n",
    "             'inflation_rate', 'daily_treasury_rates',\n",
    "             'bitcoin_daily_google_trends',\n",
    "             'twitter_sentiments_score']\n",
    "\n",
    "# Set up the 4x2 subplot grid\n",
    "fig, axes = plt.subplots(4, 2, figsize=(15, 12), sharex=False)\n",
    "\n",
    "# Flatten the 2D axes array for easy indexing\n",
    "axes = axes.flatten()\n",
    "\n",
    "# Format x-axis to show years\n",
    "years = mdates.DateFormatter('%Y')\n",
    "\n",
    "# Plot each variable\n",
    "for i, col in enumerate(variables):\n",
    "    axes[i].plot(df['date'], df[col], label=col)\n",
    "    axes[i].set_title(col, fontsize=12)\n",
    "    axes[i].xaxis.set_major_formatter(years)  # Set x-axis format\n",
    "    axes[i].grid(True)\n",
    "    axes[i].set_ylabel('Value')\n",
    "    axes[i].set_xlabel('Year')\n",
    "\n",
    "# Remove empty subplots if there are fewer than 8 variables\n",
    "for j in range(len(variables), len(axes)):\n",
    "    fig.delaxes(axes[j])\n",
    "\n",
    "# Adjust layout for clarity\n",
    "plt.tight_layout()\n",
    "plt.show()"
   ]
  },
  {
   "cell_type": "code",
   "execution_count": null,
   "metadata": {},
   "outputs": [],
   "source": [
    "# Plotting histograms of all numerical features\n",
    "bins=10\n",
    "\n",
    "df[['bitcoin_closing_prices', 'sp500_closing_data', 'inflation_rate', 'daily_treasury_rates', \n",
    "    'bitcoin_daily_google_trends', 'twitter_sentiments_score']].hist(bins=bins, figsize=(12, 12))\n",
    "\n",
    "# displaying count of values above each bar\n",
    "for ax in plt.gcf().axes:\n",
    "    for container in ax.containers:\n",
    "        ax.bar_label(container, rotation=90, fontsize=8)\n",
    "    \n",
    "    # Set x-ticks for each bin (using bin edges)\n",
    "    bin_edges = ax.patches[0].get_x()  # Getting the starting position of the first bin\n",
    "    bin_width = ax.patches[0].get_width()  # Width of each bin\n",
    "    ticks = [bin_edges + i * bin_width for i in range(bins)]  # Generate bin centers\n",
    "    ax.set_xticks(ticks)  # Set ticks on x-axis\n",
    "    ax.set_xticklabels([f'{tick:,.2f}' for tick in ticks], rotation=90)  # Format labels for better readability\n",
    "plt.subplots_adjust(hspace=0.5, wspace=0.3)  # Increase vertical and horizontal space\n",
    "plt.grid(True)\n",
    "plt.show()"
   ]
  },
  {
   "cell_type": "markdown",
   "metadata": {},
   "source": [
    "## Possible Biases\n",
    "\n",
    "[Investigate the dataset for any biases that could affect the model’s performance and fairness (e.g., class imbalance, historical biases).]\n"
   ]
  },
  {
   "cell_type": "code",
   "execution_count": null,
   "metadata": {},
   "outputs": [],
   "source": [
    "# Import necessary library\n",
    "from scipy.stats import skew\n",
    "\n",
    "# Calculate skewness for each column and print results\n",
    "for column in df[['bitcoin_closing_prices', 'sp500_closing_data', 'inflation_rate', 'daily_treasury_rates', \n",
    "    'bitcoin_daily_google_trends', 'twitter_sentiments_score']]:\n",
    "    if column in df.columns:\n",
    "        column_skewness = skew(df[column].dropna())  # Drop NaNs before calculating skewness\n",
    "        print(f\"Skewness of {column}: {column_skewness:.6f}\")\n",
    "    else:\n",
    "        print(f\"Column {column} not found in the DataFrame!\")\n"
   ]
  },
  {
   "cell_type": "code",
   "execution_count": null,
   "metadata": {},
   "outputs": [],
   "source": [
    "# Example: Checking for class imbalance in a classification problem\n",
    "# sns.countplot(x='target_variable', data=df)\n",
    "\n",
    "# Your code to investigate possible biases goes here\n"
   ]
  },
  {
   "cell_type": "markdown",
   "metadata": {},
   "source": [
    "## Correlations\n",
    "\n",
    "[Explore correlations between features and the target variable, as well as among features themselves.]\n"
   ]
  },
  {
   "cell_type": "code",
   "execution_count": null,
   "metadata": {},
   "outputs": [],
   "source": [
    "# Example: Plotting a heatmap to show feature correlations\n",
    "\n",
    "corr = df.corr()\n",
    "sns.heatmap(corr, cmap='RdYlGn', annot=True, linewidths=0.5)\n",
    "plt.show()\n"
   ]
  },
  {
   "cell_type": "code",
   "execution_count": null,
   "metadata": {},
   "outputs": [],
   "source": [
    "print(corr.map(nf_2))"
   ]
  },
  {
   "cell_type": "code",
   "execution_count": null,
   "metadata": {},
   "outputs": [],
   "source": [
    "# Define the variables for plotting\n",
    "variables = ['bitcoin_closing_prices', 'sp500_closing_data', \n",
    "             'inflation_rate', 'daily_treasury_rates', \n",
    "             'bitcoin_daily_google_trends']"
   ]
  },
  {
   "cell_type": "code",
   "execution_count": null,
   "metadata": {},
   "outputs": [],
   "source": [
    "# Function to detect outliers using the IQR method\n",
    "def detect_outliers_iqr(data):\n",
    "    Q1 = data.quantile(0.25)\n",
    "    Q3 = data.quantile(0.75)\n",
    "    IQR = Q3 - Q1\n",
    "    lower_bound = Q1 - 1.5 * IQR\n",
    "    upper_bound = Q3 + 1.5 * IQR\n",
    "    return ((data < lower_bound) | (data > upper_bound))\n",
    "\n",
    "# Set up the plot grid (3x3 layout)\n",
    "fig, axes = plt.subplots(3, 3, figsize=(15, 15))\n",
    "axes = axes.flatten()\n",
    "\n",
    "# Generate boxplots for each numeric column\n",
    "for i, col in enumerate(variables):\n",
    "    ax = axes[i]\n",
    "    valid_data = df[col].dropna()  # Drop missing values\n",
    "    sns.boxplot(y=valid_data, ax=ax, color='lightblue')  # Pass clean data\n",
    "\n",
    "    # Detect and count outliers for the current column\n",
    "    outliers = detect_outliers_iqr(df[col])  # Pass the individual column\n",
    "    num_outliers = outliers.sum()\n",
    "\n",
    "    # Annotate the plot with the number of outliers\n",
    "    ax.set_title(f\"{col}\\nOutliers: {num_outliers}\", fontsize=12)\n",
    "    ax.set_xlabel('Value')\n",
    "    ax.set_ylabel('')\n",
    "\n",
    "# Hide unused subplots if columns < 9\n",
    "for j in range(len(variables), len(axes)):\n",
    "    fig.delaxes(axes[j])\n",
    "\n",
    "# Adjust layout and show the plot\n",
    "plt.tight_layout()\n",
    "plt.show()"
   ]
  },
  {
   "cell_type": "code",
   "execution_count": null,
   "metadata": {},
   "outputs": [],
   "source": [
    "# Ensure 'date' is the datetime index\n",
    "df.set_index('date', inplace=True)\n",
    "\n",
    "# Specify the period (assumes daily data with yearly seasonality, adjust as needed)\n",
    "period = 365\n",
    "\n",
    "# Iterate through each column to perform seasonal decomposition\n",
    "for col in variables:\n",
    "    \n",
    "    # Perform seasonal decomposition (additive model, as Multiplicative seasonality is not appropriate for zero and negative values)\n",
    "    result = seasonal_decompose(df[col].dropna(), model='additive', period=period, extrapolate_trend='freq')\n",
    "    \n",
    "    # Plot the decomposition\n",
    "    fig = result.plot()\n",
    "    fig.set_size_inches(7.5, 5)  # Adjust figure size\n",
    "    \n",
    "    # Get the axes from the figure\n",
    "    axes = fig.get_axes()\n",
    "\n",
    "    # Iterate over each subplot axis (observed, trend, seasonal, residual)\n",
    "    for ax in axes:\n",
    "        ax.grid(True)  # Enable gridlines for all subplots\n",
    "        ax.set_yticks(ax.get_yticks())  # Show y-ticks\n",
    "        \n",
    "# Remove empty subplots if there are fewer than 8 variables\n",
    "for j in range(len(variables), len(axes)):\n",
    "    fig.delaxes(axes[j])\n",
    "\n",
    "    # Display the plot\n",
    "    plt.show()"
   ]
  },
  {
   "cell_type": "code",
   "execution_count": null,
   "metadata": {},
   "outputs": [],
   "source": [
    "# Create a figure with subplots (4 rows and 2 columns for 8 variables)\n",
    "fig, axes = plt.subplots(nrows=4, ncols=2, figsize=(15, 12))\n",
    "axes = axes.flatten()  # Flatten the axes array for easier indexing\n",
    "\n",
    "# Iterate through each variable and plot its ACF\n",
    "for i, col in enumerate(variables):\n",
    "    # Plot ACF for each variable with 100 lags\n",
    "    plot_acf(df[col], lags=100, ax=axes[i])\n",
    "    axes[i].set_title(col, fontsize=12)\n",
    "    axes[i].grid(True)\n",
    "\n",
    "# Remove empty subplots if there are fewer than 8 variables\n",
    "for j in range(len(variables), len(axes)):\n",
    "    fig.delaxes(axes[j])\n",
    "\n",
    "# Adjust layout for better spacing\n",
    "plt.tight_layout()\n",
    "plt.show()"
   ]
  },
  {
   "cell_type": "code",
   "execution_count": null,
   "metadata": {},
   "outputs": [],
   "source": [
    "# Set figure size and grid layout\n",
    "n_cols = 2\n",
    "n_rows = (len(variables) + 1) // 2  # Calculate rows needed for the grid\n",
    "fig, axes = plt.subplots(nrows=n_rows, ncols=n_cols, figsize=(10, 5 * n_rows))\n",
    "\n",
    "# Flatten the axes array for easy indexing (handles cases where n_rows = 1)\n",
    "axes = axes.flatten()\n",
    "\n",
    "# Plot PACF for each variable\n",
    "for i, col in enumerate(variables):\n",
    "        \n",
    "    # Create PACF plot with valid lag range\n",
    "    plot_pacf(df[col].dropna(), lags=40, ax=axes[i], method='ywmle', title=f\"PACF for {col}\")\n",
    "    axes[i].grid(True)\n",
    "\n",
    "# Remove any unused subplots (if variables < n_rows * n_cols)\n",
    "for j in range(len(variables), len(axes)):\n",
    "    fig.delaxes(axes[j])\n",
    "\n",
    "# Adjust layout for clarity\n",
    "plt.tight_layout()\n",
    "plt.show()"
   ]
  },
  {
   "cell_type": "code",
   "execution_count": null,
   "metadata": {},
   "outputs": [],
   "source": [
    "# Initialize an empty list to store results\n",
    "adf_results = {}\n",
    "\n",
    "# Loop through each variable in the DataFrame\n",
    "for col in variables:\n",
    "    # Perform Dickey-Fuller test\n",
    "    dftest = adfuller(df[col], autolag='AIC')\n",
    "\n",
    "    # Collect all the results from the ADF test\n",
    "    adf_results[col] = {\n",
    "        'Test Stats': dftest[0],  # ADF Test Statistic\n",
    "        'p-value': dftest[1],  # p-value of the test\n",
    "        'Number of Lags': dftest[2],  # Number of lags used in the test\n",
    "        'Number of Used Observations': dftest[3],  # Number of observations used\n",
    "        'Critical Value (1%)': dftest[4]['1%'],  # Critical value for 1% significance level\n",
    "        'Critical Value (5%)': dftest[4]['5%'],  # Critical value for 5% significance level\n",
    "        'Critical Value (10%)': dftest[4]['10%'],  # Critical value for 10% significance level\n",
    "        'H0 Decision': 'Reject' if dftest[1] < 0.05 else 'Accept',  # H0 decision based on p-value\n",
    "        'Stationary': 'Yes' if dftest[1] < 0.05 else 'No'  # Stationarity based on p-value\n",
    "    }\n",
    "\n",
    "# Convert the dictionary into a DataFrame\n",
    "adf_results_df = pd.DataFrame(adf_results)\n",
    "\n",
    "# Display the result table\n",
    "print(adf_results_df)"
   ]
  },
  {
   "cell_type": "markdown",
   "metadata": {},
   "source": [
    "`adf_results_df` contains the results of the Dickey-Fuller test for each variable. It includes the following columns:\n",
    "\n",
    "- **Test Stats**: The ADF test statistic.\n",
    "- **p-value**: The p-value of the test.\n",
    "- **Number of Lags**: The number of lags used in the test.\n",
    "- **Number of Used Observations**: The number of observations used.\n",
    "- **Critical Value (1%)**: The critical value for a 1% significance level.\n",
    "- **Critical Value (5%)**: The critical value for a 5% significance level.\n",
    "- **Critical Value (10%)**: The critical value for a 10% significance level.\n",
    "- **H0 Decision**: The decision based on the p-value. If the p-value is less than 0.05, the null hypothesis is rejected, indicating that the time series is non-stationary.\n",
    "- **Stationary**: The stationarity of the time series based on the p-value. If the p-value is less than 0.05, the time series is considered stationary.\n",
    "\n",
    "In order to make the data stationary, we need to transform the data. We can do this using the `statsmodels` library. This is done in feature engineering."
   ]
  },
  {
   "cell_type": "code",
   "execution_count": null,
   "metadata": {},
   "outputs": [],
   "source": [
    "# Initialize an empty list to store results\n",
    "kpss_results = {}\n",
    "\n",
    "# Loop through each variable in the DataFrame\n",
    "for col in variables:\n",
    "    # Perform KPSS test\n",
    "    kpsstest = kpss(df[col], regression='c', nlags='auto')  # 'c' for level stationarity\n",
    "\n",
    "    # Collect all the results from the KPSS test\n",
    "    kpss_results[col] = {\n",
    "        'Test Stats': kpsstest[0],  # KPSS Test Statistic\n",
    "        'p-value': kpsstest[1],  # p-value of the test\n",
    "        'Number of Lags': kpsstest[2],  # Number of lags used in the test\n",
    "        'Critical Value (10%)': kpsstest[3]['10%'],  # Critical value for 10% significance level\n",
    "        'Critical Value (5%)': kpsstest[3]['5%'],  # Critical value for 5% significance level\n",
    "        'Critical Value (1%)': kpsstest[3]['1%'],  # Critical value for 1% significance level\n",
    "        'H0 Decision': 'Reject' if kpsstest[1] < 0.05 else 'Accept',  # H0 decision based on p-value\n",
    "        'Stationary': 'No' if kpsstest[1] < 0.05 else 'Yes'  # Stationarity based on p-value\n",
    "    }\n",
    "\n",
    "# Convert the dictionary into a DataFrame\n",
    "kpss_results_df = pd.DataFrame(kpss_results)\n",
    "\n",
    "# Display the result table\n",
    "print(kpss_results_df)"
   ]
  },
  {
   "cell_type": "markdown",
   "metadata": {},
   "source": [
    "`kpss_results_df` contains the results of the KPSS test for each variable. It includes the following columns:\n",
    "\n",
    "- **Test Stats**: The KPSS test statistic.\n",
    "- **p-value**: The p-value of the test.\n",
    "- **Number of Lags**: The number of lags used in the test.\n",
    "- **Critical Value (10%)**: The critical value for a 10% significance level.\n",
    "- **Critical Value (5%)**: The critical value for a 5% significance level.\n",
    "- **Critical Value (1%)**: The critical value for a 1% significance level.\n",
    "- **H0 Decision**: The decision based on the p-value. If the p-value is less than 0.05, the null hypothesis is rejected, indicating that the time series is non-stationary.\n",
    "- **Stationary**: The stationarity of the time series based on the p-value. If the p-value is less than 0.05, the time series is considered non-stationary."
   ]
  },
  {
   "cell_type": "code",
   "execution_count": null,
   "metadata": {},
   "outputs": [],
   "source": [
    "import os\n",
    "print(os.getcwd())  # This prints the current working directory\n",
    "df.to_csv('cleaned_data.csv', index=False)"
   ]
  }
 ],
 "metadata": {
  "kernelspec": {
   "display_name": "time_series_work",
   "language": "python",
   "name": "python3"
  },
  "language_info": {
   "codemirror_mode": {
    "name": "ipython",
    "version": 3
   },
   "file_extension": ".py",
   "mimetype": "text/x-python",
   "name": "python",
   "nbconvert_exporter": "python",
   "pygments_lexer": "ipython3",
   "version": "3.12.7"
  }
 },
 "nbformat": 4,
 "nbformat_minor": 2
}
